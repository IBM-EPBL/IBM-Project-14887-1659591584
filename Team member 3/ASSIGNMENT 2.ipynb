{
 "cells": [
  {
   "cell_type": "markdown",
   "metadata": {},
   "source": [
    "# 1. Download the dataset: Dataset"
   ]
  },
  {
   "cell_type": "markdown",
   "metadata": {},
   "source": [
    "# 2. Load the dataset."
   ]
  },
  {
   "cell_type": "code",
   "execution_count": 5,
   "metadata": {},
   "outputs": [],
   "source": [
    "import pandas as pd\n",
    "import numpy as np\n",
    "import matplotlib.pyplot as plt\n",
    "import seaborn as sns"
   ]
  },
  {
   "cell_type": "code",
   "execution_count": 23,
   "metadata": {
    "scrolled": true
   },
   "outputs": [
    {
     "data": {
      "text/html": [
       "<div>\n",
       "<style scoped>\n",
       "    .dataframe tbody tr th:only-of-type {\n",
       "        vertical-align: middle;\n",
       "    }\n",
       "\n",
       "    .dataframe tbody tr th {\n",
       "        vertical-align: top;\n",
       "    }\n",
       "\n",
       "    .dataframe thead th {\n",
       "        text-align: right;\n",
       "    }\n",
       "</style>\n",
       "<table border=\"1\" class=\"dataframe\">\n",
       "  <thead>\n",
       "    <tr style=\"text-align: right;\">\n",
       "      <th></th>\n",
       "      <th>RowNumber</th>\n",
       "      <th>CustomerId</th>\n",
       "      <th>Surname</th>\n",
       "      <th>CreditScore</th>\n",
       "      <th>Geography</th>\n",
       "      <th>Gender</th>\n",
       "      <th>Age</th>\n",
       "      <th>Tenure</th>\n",
       "      <th>Balance</th>\n",
       "      <th>NumOfProducts</th>\n",
       "      <th>HasCrCard</th>\n",
       "      <th>IsActiveMember</th>\n",
       "      <th>EstimatedSalary</th>\n",
       "      <th>Exited</th>\n",
       "    </tr>\n",
       "  </thead>\n",
       "  <tbody>\n",
       "    <tr>\n",
       "      <th>0</th>\n",
       "      <td>1</td>\n",
       "      <td>15634602</td>\n",
       "      <td>Hargrave</td>\n",
       "      <td>619</td>\n",
       "      <td>France</td>\n",
       "      <td>Female</td>\n",
       "      <td>42</td>\n",
       "      <td>2</td>\n",
       "      <td>0.00</td>\n",
       "      <td>1</td>\n",
       "      <td>1</td>\n",
       "      <td>1</td>\n",
       "      <td>101348.88</td>\n",
       "      <td>1</td>\n",
       "    </tr>\n",
       "    <tr>\n",
       "      <th>1</th>\n",
       "      <td>2</td>\n",
       "      <td>15647311</td>\n",
       "      <td>Hill</td>\n",
       "      <td>608</td>\n",
       "      <td>Spain</td>\n",
       "      <td>Female</td>\n",
       "      <td>41</td>\n",
       "      <td>1</td>\n",
       "      <td>83807.86</td>\n",
       "      <td>1</td>\n",
       "      <td>0</td>\n",
       "      <td>1</td>\n",
       "      <td>112542.58</td>\n",
       "      <td>0</td>\n",
       "    </tr>\n",
       "    <tr>\n",
       "      <th>2</th>\n",
       "      <td>3</td>\n",
       "      <td>15619304</td>\n",
       "      <td>Onio</td>\n",
       "      <td>502</td>\n",
       "      <td>France</td>\n",
       "      <td>Female</td>\n",
       "      <td>42</td>\n",
       "      <td>8</td>\n",
       "      <td>159660.80</td>\n",
       "      <td>3</td>\n",
       "      <td>1</td>\n",
       "      <td>0</td>\n",
       "      <td>113931.57</td>\n",
       "      <td>1</td>\n",
       "    </tr>\n",
       "    <tr>\n",
       "      <th>3</th>\n",
       "      <td>4</td>\n",
       "      <td>15701354</td>\n",
       "      <td>Boni</td>\n",
       "      <td>699</td>\n",
       "      <td>France</td>\n",
       "      <td>Female</td>\n",
       "      <td>39</td>\n",
       "      <td>1</td>\n",
       "      <td>0.00</td>\n",
       "      <td>2</td>\n",
       "      <td>0</td>\n",
       "      <td>0</td>\n",
       "      <td>93826.63</td>\n",
       "      <td>0</td>\n",
       "    </tr>\n",
       "    <tr>\n",
       "      <th>4</th>\n",
       "      <td>5</td>\n",
       "      <td>15737888</td>\n",
       "      <td>Mitchell</td>\n",
       "      <td>850</td>\n",
       "      <td>Spain</td>\n",
       "      <td>Female</td>\n",
       "      <td>43</td>\n",
       "      <td>2</td>\n",
       "      <td>125510.82</td>\n",
       "      <td>1</td>\n",
       "      <td>1</td>\n",
       "      <td>1</td>\n",
       "      <td>79084.10</td>\n",
       "      <td>0</td>\n",
       "    </tr>\n",
       "    <tr>\n",
       "      <th>...</th>\n",
       "      <td>...</td>\n",
       "      <td>...</td>\n",
       "      <td>...</td>\n",
       "      <td>...</td>\n",
       "      <td>...</td>\n",
       "      <td>...</td>\n",
       "      <td>...</td>\n",
       "      <td>...</td>\n",
       "      <td>...</td>\n",
       "      <td>...</td>\n",
       "      <td>...</td>\n",
       "      <td>...</td>\n",
       "      <td>...</td>\n",
       "      <td>...</td>\n",
       "    </tr>\n",
       "    <tr>\n",
       "      <th>9995</th>\n",
       "      <td>9996</td>\n",
       "      <td>15606229</td>\n",
       "      <td>Obijiaku</td>\n",
       "      <td>771</td>\n",
       "      <td>France</td>\n",
       "      <td>Male</td>\n",
       "      <td>39</td>\n",
       "      <td>5</td>\n",
       "      <td>0.00</td>\n",
       "      <td>2</td>\n",
       "      <td>1</td>\n",
       "      <td>0</td>\n",
       "      <td>96270.64</td>\n",
       "      <td>0</td>\n",
       "    </tr>\n",
       "    <tr>\n",
       "      <th>9996</th>\n",
       "      <td>9997</td>\n",
       "      <td>15569892</td>\n",
       "      <td>Johnstone</td>\n",
       "      <td>516</td>\n",
       "      <td>France</td>\n",
       "      <td>Male</td>\n",
       "      <td>35</td>\n",
       "      <td>10</td>\n",
       "      <td>57369.61</td>\n",
       "      <td>1</td>\n",
       "      <td>1</td>\n",
       "      <td>1</td>\n",
       "      <td>101699.77</td>\n",
       "      <td>0</td>\n",
       "    </tr>\n",
       "    <tr>\n",
       "      <th>9997</th>\n",
       "      <td>9998</td>\n",
       "      <td>15584532</td>\n",
       "      <td>Liu</td>\n",
       "      <td>709</td>\n",
       "      <td>France</td>\n",
       "      <td>Female</td>\n",
       "      <td>36</td>\n",
       "      <td>7</td>\n",
       "      <td>0.00</td>\n",
       "      <td>1</td>\n",
       "      <td>0</td>\n",
       "      <td>1</td>\n",
       "      <td>42085.58</td>\n",
       "      <td>1</td>\n",
       "    </tr>\n",
       "    <tr>\n",
       "      <th>9998</th>\n",
       "      <td>9999</td>\n",
       "      <td>15682355</td>\n",
       "      <td>Sabbatini</td>\n",
       "      <td>772</td>\n",
       "      <td>Germany</td>\n",
       "      <td>Male</td>\n",
       "      <td>42</td>\n",
       "      <td>3</td>\n",
       "      <td>75075.31</td>\n",
       "      <td>2</td>\n",
       "      <td>1</td>\n",
       "      <td>0</td>\n",
       "      <td>92888.52</td>\n",
       "      <td>1</td>\n",
       "    </tr>\n",
       "    <tr>\n",
       "      <th>9999</th>\n",
       "      <td>10000</td>\n",
       "      <td>15628319</td>\n",
       "      <td>Walker</td>\n",
       "      <td>792</td>\n",
       "      <td>France</td>\n",
       "      <td>Female</td>\n",
       "      <td>28</td>\n",
       "      <td>4</td>\n",
       "      <td>130142.79</td>\n",
       "      <td>1</td>\n",
       "      <td>1</td>\n",
       "      <td>0</td>\n",
       "      <td>38190.78</td>\n",
       "      <td>0</td>\n",
       "    </tr>\n",
       "  </tbody>\n",
       "</table>\n",
       "<p>10000 rows × 14 columns</p>\n",
       "</div>"
      ],
      "text/plain": [
       "      RowNumber  CustomerId    Surname  CreditScore Geography  Gender  Age  \\\n",
       "0             1    15634602   Hargrave          619    France  Female   42   \n",
       "1             2    15647311       Hill          608     Spain  Female   41   \n",
       "2             3    15619304       Onio          502    France  Female   42   \n",
       "3             4    15701354       Boni          699    France  Female   39   \n",
       "4             5    15737888   Mitchell          850     Spain  Female   43   \n",
       "...         ...         ...        ...          ...       ...     ...  ...   \n",
       "9995       9996    15606229   Obijiaku          771    France    Male   39   \n",
       "9996       9997    15569892  Johnstone          516    France    Male   35   \n",
       "9997       9998    15584532        Liu          709    France  Female   36   \n",
       "9998       9999    15682355  Sabbatini          772   Germany    Male   42   \n",
       "9999      10000    15628319     Walker          792    France  Female   28   \n",
       "\n",
       "      Tenure    Balance  NumOfProducts  HasCrCard  IsActiveMember  \\\n",
       "0          2       0.00              1          1               1   \n",
       "1          1   83807.86              1          0               1   \n",
       "2          8  159660.80              3          1               0   \n",
       "3          1       0.00              2          0               0   \n",
       "4          2  125510.82              1          1               1   \n",
       "...      ...        ...            ...        ...             ...   \n",
       "9995       5       0.00              2          1               0   \n",
       "9996      10   57369.61              1          1               1   \n",
       "9997       7       0.00              1          0               1   \n",
       "9998       3   75075.31              2          1               0   \n",
       "9999       4  130142.79              1          1               0   \n",
       "\n",
       "      EstimatedSalary  Exited  \n",
       "0           101348.88       1  \n",
       "1           112542.58       0  \n",
       "2           113931.57       1  \n",
       "3            93826.63       0  \n",
       "4            79084.10       0  \n",
       "...               ...     ...  \n",
       "9995         96270.64       0  \n",
       "9996        101699.77       0  \n",
       "9997         42085.58       1  \n",
       "9998         92888.52       1  \n",
       "9999         38190.78       0  \n",
       "\n",
       "[10000 rows x 14 columns]"
      ]
     },
     "execution_count": 23,
     "metadata": {},
     "output_type": "execute_result"
    }
   ],
   "source": [
    "df=pd.read_csv(r\"C:\\Users\\sowmy\\Downloads\\archive\\Churn_Modelling.csv\")\n",
    "df=pd.DataFrame(df)\n",
    "df"
   ]
  },
  {
   "cell_type": "code",
   "execution_count": 8,
   "metadata": {},
   "outputs": [],
   "source": [
    "df = df.drop(columns=['RowNumber', 'CustomerId', 'Surname'])"
   ]
  },
  {
   "cell_type": "code",
   "execution_count": 10,
   "metadata": {
    "scrolled": true
   },
   "outputs": [
    {
     "data": {
      "text/html": [
       "<style type=\"text/css\">\n",
       "#T_4941c_row0_col0 {\n",
       "  background-color: #d230cf;\n",
       "  color: #f1f1f1;\n",
       "}\n",
       "#T_4941c_row0_col3, #T_4941c_row2_col3, #T_4941c_row9_col0 {\n",
       "  background-color: #ff7689;\n",
       "  color: #f1f1f1;\n",
       "}\n",
       "#T_4941c_row0_col4, #T_4941c_row4_col4, #T_4941c_row9_col4 {\n",
       "  background-color: #000090;\n",
       "  color: #f1f1f1;\n",
       "}\n",
       "#T_4941c_row0_col5, #T_4941c_row0_col6, #T_4941c_row1_col4, #T_4941c_row1_col6, #T_4941c_row1_col7, #T_4941c_row1_col10, #T_4941c_row2_col8, #T_4941c_row3_col4, #T_4941c_row3_col5, #T_4941c_row3_col7, #T_4941c_row3_col8, #T_4941c_row3_col10, #T_4941c_row4_col6, #T_4941c_row4_col10, #T_4941c_row5_col8, #T_4941c_row6_col5, #T_4941c_row6_col9, #T_4941c_row6_col10, #T_4941c_row7_col0, #T_4941c_row7_col8, #T_4941c_row8_col7, #T_4941c_row8_col10, #T_4941c_row9_col3, #T_4941c_row9_col6, #T_4941c_row9_col10 {\n",
       "  background-color: #000000;\n",
       "  color: #f1f1f1;\n",
       "}\n",
       "#T_4941c_row0_col7, #T_4941c_row0_col8, #T_4941c_row0_col10, #T_4941c_row1_col8, #T_4941c_row2_col4, #T_4941c_row2_col5, #T_4941c_row2_col7, #T_4941c_row2_col10, #T_4941c_row4_col0, #T_4941c_row4_col7, #T_4941c_row4_col8, #T_4941c_row5_col4, #T_4941c_row5_col7, #T_4941c_row5_col9, #T_4941c_row5_col10, #T_4941c_row6_col3, #T_4941c_row6_col7, #T_4941c_row6_col8, #T_4941c_row7_col6, #T_4941c_row7_col7, #T_4941c_row7_col10, #T_4941c_row8_col8, #T_4941c_row9_col7, #T_4941c_row9_col8 {\n",
       "  background-color: #ffffff;\n",
       "  color: #000000;\n",
       "}\n",
       "#T_4941c_row0_col9 {\n",
       "  background-color: #ff7887;\n",
       "  color: #f1f1f1;\n",
       "}\n",
       "#T_4941c_row1_col0 {\n",
       "  background-color: #bf24db;\n",
       "  color: #f1f1f1;\n",
       "}\n",
       "#T_4941c_row1_col3 {\n",
       "  background-color: #ff609f;\n",
       "  color: #f1f1f1;\n",
       "}\n",
       "#T_4941c_row1_col5 {\n",
       "  background-color: #dc36c9;\n",
       "  color: #f1f1f1;\n",
       "}\n",
       "#T_4941c_row1_col9 {\n",
       "  background-color: #ffa05f;\n",
       "  color: #000000;\n",
       "}\n",
       "#T_4941c_row2_col0 {\n",
       "  background-color: #0d00ff;\n",
       "  color: #f1f1f1;\n",
       "}\n",
       "#T_4941c_row2_col6 {\n",
       "  background-color: #ff7e81;\n",
       "  color: #f1f1f1;\n",
       "}\n",
       "#T_4941c_row2_col9 {\n",
       "  background-color: #ffa659;\n",
       "  color: #000000;\n",
       "}\n",
       "#T_4941c_row3_col0 {\n",
       "  background-color: #ff8679;\n",
       "  color: #f1f1f1;\n",
       "}\n",
       "#T_4941c_row3_col3 {\n",
       "  background-color: #d834cb;\n",
       "  color: #f1f1f1;\n",
       "}\n",
       "#T_4941c_row3_col6, #T_4941c_row5_col6, #T_4941c_row6_col6, #T_4941c_row8_col6 {\n",
       "  background-color: #4200ff;\n",
       "  color: #f1f1f1;\n",
       "}\n",
       "#T_4941c_row3_col9 {\n",
       "  background-color: #ff5ca3;\n",
       "  color: #f1f1f1;\n",
       "}\n",
       "#T_4941c_row4_col3 {\n",
       "  background-color: #ff8e71;\n",
       "  color: #000000;\n",
       "}\n",
       "#T_4941c_row4_col5 {\n",
       "  background-color: #ffbc43;\n",
       "  color: #000000;\n",
       "}\n",
       "#T_4941c_row4_col9 {\n",
       "  background-color: #c326d9;\n",
       "  color: #f1f1f1;\n",
       "}\n",
       "#T_4941c_row5_col0 {\n",
       "  background-color: #fe4cb3;\n",
       "  color: #f1f1f1;\n",
       "}\n",
       "#T_4941c_row5_col3, #T_4941c_row8_col3 {\n",
       "  background-color: #ffa45b;\n",
       "  color: #000000;\n",
       "}\n",
       "#T_4941c_row5_col5 {\n",
       "  background-color: #ff9669;\n",
       "  color: #000000;\n",
       "}\n",
       "#T_4941c_row6_col0 {\n",
       "  background-color: #ffff43;\n",
       "  color: #000000;\n",
       "}\n",
       "#T_4941c_row6_col4 {\n",
       "  background-color: #ffe01f;\n",
       "  color: #000000;\n",
       "}\n",
       "#T_4941c_row7_col3 {\n",
       "  background-color: #000058;\n",
       "  color: #f1f1f1;\n",
       "}\n",
       "#T_4941c_row7_col4, #T_4941c_row8_col4 {\n",
       "  background-color: #8d04fb;\n",
       "  color: #f1f1f1;\n",
       "}\n",
       "#T_4941c_row7_col5 {\n",
       "  background-color: #ff9a65;\n",
       "  color: #000000;\n",
       "}\n",
       "#T_4941c_row7_col9 {\n",
       "  background-color: #ffba45;\n",
       "  color: #000000;\n",
       "}\n",
       "#T_4941c_row8_col0 {\n",
       "  background-color: #0a00ff;\n",
       "  color: #f1f1f1;\n",
       "}\n",
       "#T_4941c_row8_col5 {\n",
       "  background-color: #fff00f;\n",
       "  color: #000000;\n",
       "}\n",
       "#T_4941c_row8_col9 {\n",
       "  background-color: #aa16e9;\n",
       "  color: #f1f1f1;\n",
       "}\n",
       "#T_4941c_row9_col5 {\n",
       "  background-color: #ffd827;\n",
       "  color: #000000;\n",
       "}\n",
       "#T_4941c_row9_col9 {\n",
       "  background-color: #9a0cf3;\n",
       "  color: #f1f1f1;\n",
       "}\n",
       "</style>\n",
       "<table id=\"T_4941c_\">\n",
       "  <thead>\n",
       "    <tr>\n",
       "      <th class=\"blank level0\" >&nbsp;</th>\n",
       "      <th class=\"col_heading level0 col0\" >CreditScore</th>\n",
       "      <th class=\"col_heading level0 col1\" >Geography</th>\n",
       "      <th class=\"col_heading level0 col2\" >Gender</th>\n",
       "      <th class=\"col_heading level0 col3\" >Age</th>\n",
       "      <th class=\"col_heading level0 col4\" >Tenure</th>\n",
       "      <th class=\"col_heading level0 col5\" >Balance</th>\n",
       "      <th class=\"col_heading level0 col6\" >NumOfProducts</th>\n",
       "      <th class=\"col_heading level0 col7\" >HasCrCard</th>\n",
       "      <th class=\"col_heading level0 col8\" >IsActiveMember</th>\n",
       "      <th class=\"col_heading level0 col9\" >EstimatedSalary</th>\n",
       "      <th class=\"col_heading level0 col10\" >Exited</th>\n",
       "    </tr>\n",
       "  </thead>\n",
       "  <tbody>\n",
       "    <tr>\n",
       "      <th id=\"T_4941c_level0_row0\" class=\"row_heading level0 row0\" >0</th>\n",
       "      <td id=\"T_4941c_row0_col0\" class=\"data row0 col0\" >619</td>\n",
       "      <td id=\"T_4941c_row0_col1\" class=\"data row0 col1\" >France</td>\n",
       "      <td id=\"T_4941c_row0_col2\" class=\"data row0 col2\" >Female</td>\n",
       "      <td id=\"T_4941c_row0_col3\" class=\"data row0 col3\" >42</td>\n",
       "      <td id=\"T_4941c_row0_col4\" class=\"data row0 col4\" >2</td>\n",
       "      <td id=\"T_4941c_row0_col5\" class=\"data row0 col5\" >0.000000</td>\n",
       "      <td id=\"T_4941c_row0_col6\" class=\"data row0 col6\" >1</td>\n",
       "      <td id=\"T_4941c_row0_col7\" class=\"data row0 col7\" >1</td>\n",
       "      <td id=\"T_4941c_row0_col8\" class=\"data row0 col8\" >1</td>\n",
       "      <td id=\"T_4941c_row0_col9\" class=\"data row0 col9\" >101348.880000</td>\n",
       "      <td id=\"T_4941c_row0_col10\" class=\"data row0 col10\" >1</td>\n",
       "    </tr>\n",
       "    <tr>\n",
       "      <th id=\"T_4941c_level0_row1\" class=\"row_heading level0 row1\" >1</th>\n",
       "      <td id=\"T_4941c_row1_col0\" class=\"data row1 col0\" >608</td>\n",
       "      <td id=\"T_4941c_row1_col1\" class=\"data row1 col1\" >Spain</td>\n",
       "      <td id=\"T_4941c_row1_col2\" class=\"data row1 col2\" >Female</td>\n",
       "      <td id=\"T_4941c_row1_col3\" class=\"data row1 col3\" >41</td>\n",
       "      <td id=\"T_4941c_row1_col4\" class=\"data row1 col4\" >1</td>\n",
       "      <td id=\"T_4941c_row1_col5\" class=\"data row1 col5\" >83807.860000</td>\n",
       "      <td id=\"T_4941c_row1_col6\" class=\"data row1 col6\" >1</td>\n",
       "      <td id=\"T_4941c_row1_col7\" class=\"data row1 col7\" >0</td>\n",
       "      <td id=\"T_4941c_row1_col8\" class=\"data row1 col8\" >1</td>\n",
       "      <td id=\"T_4941c_row1_col9\" class=\"data row1 col9\" >112542.580000</td>\n",
       "      <td id=\"T_4941c_row1_col10\" class=\"data row1 col10\" >0</td>\n",
       "    </tr>\n",
       "    <tr>\n",
       "      <th id=\"T_4941c_level0_row2\" class=\"row_heading level0 row2\" >2</th>\n",
       "      <td id=\"T_4941c_row2_col0\" class=\"data row2 col0\" >502</td>\n",
       "      <td id=\"T_4941c_row2_col1\" class=\"data row2 col1\" >France</td>\n",
       "      <td id=\"T_4941c_row2_col2\" class=\"data row2 col2\" >Female</td>\n",
       "      <td id=\"T_4941c_row2_col3\" class=\"data row2 col3\" >42</td>\n",
       "      <td id=\"T_4941c_row2_col4\" class=\"data row2 col4\" >8</td>\n",
       "      <td id=\"T_4941c_row2_col5\" class=\"data row2 col5\" >159660.800000</td>\n",
       "      <td id=\"T_4941c_row2_col6\" class=\"data row2 col6\" >3</td>\n",
       "      <td id=\"T_4941c_row2_col7\" class=\"data row2 col7\" >1</td>\n",
       "      <td id=\"T_4941c_row2_col8\" class=\"data row2 col8\" >0</td>\n",
       "      <td id=\"T_4941c_row2_col9\" class=\"data row2 col9\" >113931.570000</td>\n",
       "      <td id=\"T_4941c_row2_col10\" class=\"data row2 col10\" >1</td>\n",
       "    </tr>\n",
       "    <tr>\n",
       "      <th id=\"T_4941c_level0_row3\" class=\"row_heading level0 row3\" >3</th>\n",
       "      <td id=\"T_4941c_row3_col0\" class=\"data row3 col0\" >699</td>\n",
       "      <td id=\"T_4941c_row3_col1\" class=\"data row3 col1\" >France</td>\n",
       "      <td id=\"T_4941c_row3_col2\" class=\"data row3 col2\" >Female</td>\n",
       "      <td id=\"T_4941c_row3_col3\" class=\"data row3 col3\" >39</td>\n",
       "      <td id=\"T_4941c_row3_col4\" class=\"data row3 col4\" >1</td>\n",
       "      <td id=\"T_4941c_row3_col5\" class=\"data row3 col5\" >0.000000</td>\n",
       "      <td id=\"T_4941c_row3_col6\" class=\"data row3 col6\" >2</td>\n",
       "      <td id=\"T_4941c_row3_col7\" class=\"data row3 col7\" >0</td>\n",
       "      <td id=\"T_4941c_row3_col8\" class=\"data row3 col8\" >0</td>\n",
       "      <td id=\"T_4941c_row3_col9\" class=\"data row3 col9\" >93826.630000</td>\n",
       "      <td id=\"T_4941c_row3_col10\" class=\"data row3 col10\" >0</td>\n",
       "    </tr>\n",
       "    <tr>\n",
       "      <th id=\"T_4941c_level0_row4\" class=\"row_heading level0 row4\" >4</th>\n",
       "      <td id=\"T_4941c_row4_col0\" class=\"data row4 col0\" >850</td>\n",
       "      <td id=\"T_4941c_row4_col1\" class=\"data row4 col1\" >Spain</td>\n",
       "      <td id=\"T_4941c_row4_col2\" class=\"data row4 col2\" >Female</td>\n",
       "      <td id=\"T_4941c_row4_col3\" class=\"data row4 col3\" >43</td>\n",
       "      <td id=\"T_4941c_row4_col4\" class=\"data row4 col4\" >2</td>\n",
       "      <td id=\"T_4941c_row4_col5\" class=\"data row4 col5\" >125510.820000</td>\n",
       "      <td id=\"T_4941c_row4_col6\" class=\"data row4 col6\" >1</td>\n",
       "      <td id=\"T_4941c_row4_col7\" class=\"data row4 col7\" >1</td>\n",
       "      <td id=\"T_4941c_row4_col8\" class=\"data row4 col8\" >1</td>\n",
       "      <td id=\"T_4941c_row4_col9\" class=\"data row4 col9\" >79084.100000</td>\n",
       "      <td id=\"T_4941c_row4_col10\" class=\"data row4 col10\" >0</td>\n",
       "    </tr>\n",
       "    <tr>\n",
       "      <th id=\"T_4941c_level0_row5\" class=\"row_heading level0 row5\" >5</th>\n",
       "      <td id=\"T_4941c_row5_col0\" class=\"data row5 col0\" >645</td>\n",
       "      <td id=\"T_4941c_row5_col1\" class=\"data row5 col1\" >Spain</td>\n",
       "      <td id=\"T_4941c_row5_col2\" class=\"data row5 col2\" >Male</td>\n",
       "      <td id=\"T_4941c_row5_col3\" class=\"data row5 col3\" >44</td>\n",
       "      <td id=\"T_4941c_row5_col4\" class=\"data row5 col4\" >8</td>\n",
       "      <td id=\"T_4941c_row5_col5\" class=\"data row5 col5\" >113755.780000</td>\n",
       "      <td id=\"T_4941c_row5_col6\" class=\"data row5 col6\" >2</td>\n",
       "      <td id=\"T_4941c_row5_col7\" class=\"data row5 col7\" >1</td>\n",
       "      <td id=\"T_4941c_row5_col8\" class=\"data row5 col8\" >0</td>\n",
       "      <td id=\"T_4941c_row5_col9\" class=\"data row5 col9\" >149756.710000</td>\n",
       "      <td id=\"T_4941c_row5_col10\" class=\"data row5 col10\" >1</td>\n",
       "    </tr>\n",
       "    <tr>\n",
       "      <th id=\"T_4941c_level0_row6\" class=\"row_heading level0 row6\" >6</th>\n",
       "      <td id=\"T_4941c_row6_col0\" class=\"data row6 col0\" >822</td>\n",
       "      <td id=\"T_4941c_row6_col1\" class=\"data row6 col1\" >France</td>\n",
       "      <td id=\"T_4941c_row6_col2\" class=\"data row6 col2\" >Male</td>\n",
       "      <td id=\"T_4941c_row6_col3\" class=\"data row6 col3\" >50</td>\n",
       "      <td id=\"T_4941c_row6_col4\" class=\"data row6 col4\" >7</td>\n",
       "      <td id=\"T_4941c_row6_col5\" class=\"data row6 col5\" >0.000000</td>\n",
       "      <td id=\"T_4941c_row6_col6\" class=\"data row6 col6\" >2</td>\n",
       "      <td id=\"T_4941c_row6_col7\" class=\"data row6 col7\" >1</td>\n",
       "      <td id=\"T_4941c_row6_col8\" class=\"data row6 col8\" >1</td>\n",
       "      <td id=\"T_4941c_row6_col9\" class=\"data row6 col9\" >10062.800000</td>\n",
       "      <td id=\"T_4941c_row6_col10\" class=\"data row6 col10\" >0</td>\n",
       "    </tr>\n",
       "    <tr>\n",
       "      <th id=\"T_4941c_level0_row7\" class=\"row_heading level0 row7\" >7</th>\n",
       "      <td id=\"T_4941c_row7_col0\" class=\"data row7 col0\" >376</td>\n",
       "      <td id=\"T_4941c_row7_col1\" class=\"data row7 col1\" >Germany</td>\n",
       "      <td id=\"T_4941c_row7_col2\" class=\"data row7 col2\" >Female</td>\n",
       "      <td id=\"T_4941c_row7_col3\" class=\"data row7 col3\" >29</td>\n",
       "      <td id=\"T_4941c_row7_col4\" class=\"data row7 col4\" >4</td>\n",
       "      <td id=\"T_4941c_row7_col5\" class=\"data row7 col5\" >115046.740000</td>\n",
       "      <td id=\"T_4941c_row7_col6\" class=\"data row7 col6\" >4</td>\n",
       "      <td id=\"T_4941c_row7_col7\" class=\"data row7 col7\" >1</td>\n",
       "      <td id=\"T_4941c_row7_col8\" class=\"data row7 col8\" >0</td>\n",
       "      <td id=\"T_4941c_row7_col9\" class=\"data row7 col9\" >119346.880000</td>\n",
       "      <td id=\"T_4941c_row7_col10\" class=\"data row7 col10\" >1</td>\n",
       "    </tr>\n",
       "    <tr>\n",
       "      <th id=\"T_4941c_level0_row8\" class=\"row_heading level0 row8\" >8</th>\n",
       "      <td id=\"T_4941c_row8_col0\" class=\"data row8 col0\" >501</td>\n",
       "      <td id=\"T_4941c_row8_col1\" class=\"data row8 col1\" >France</td>\n",
       "      <td id=\"T_4941c_row8_col2\" class=\"data row8 col2\" >Male</td>\n",
       "      <td id=\"T_4941c_row8_col3\" class=\"data row8 col3\" >44</td>\n",
       "      <td id=\"T_4941c_row8_col4\" class=\"data row8 col4\" >4</td>\n",
       "      <td id=\"T_4941c_row8_col5\" class=\"data row8 col5\" >142051.070000</td>\n",
       "      <td id=\"T_4941c_row8_col6\" class=\"data row8 col6\" >2</td>\n",
       "      <td id=\"T_4941c_row8_col7\" class=\"data row8 col7\" >0</td>\n",
       "      <td id=\"T_4941c_row8_col8\" class=\"data row8 col8\" >1</td>\n",
       "      <td id=\"T_4941c_row8_col9\" class=\"data row8 col9\" >74940.500000</td>\n",
       "      <td id=\"T_4941c_row8_col10\" class=\"data row8 col10\" >0</td>\n",
       "    </tr>\n",
       "    <tr>\n",
       "      <th id=\"T_4941c_level0_row9\" class=\"row_heading level0 row9\" >9</th>\n",
       "      <td id=\"T_4941c_row9_col0\" class=\"data row9 col0\" >684</td>\n",
       "      <td id=\"T_4941c_row9_col1\" class=\"data row9 col1\" >France</td>\n",
       "      <td id=\"T_4941c_row9_col2\" class=\"data row9 col2\" >Male</td>\n",
       "      <td id=\"T_4941c_row9_col3\" class=\"data row9 col3\" >27</td>\n",
       "      <td id=\"T_4941c_row9_col4\" class=\"data row9 col4\" >2</td>\n",
       "      <td id=\"T_4941c_row9_col5\" class=\"data row9 col5\" >134603.880000</td>\n",
       "      <td id=\"T_4941c_row9_col6\" class=\"data row9 col6\" >1</td>\n",
       "      <td id=\"T_4941c_row9_col7\" class=\"data row9 col7\" >1</td>\n",
       "      <td id=\"T_4941c_row9_col8\" class=\"data row9 col8\" >1</td>\n",
       "      <td id=\"T_4941c_row9_col9\" class=\"data row9 col9\" >71725.730000</td>\n",
       "      <td id=\"T_4941c_row9_col10\" class=\"data row9 col10\" >0</td>\n",
       "    </tr>\n",
       "  </tbody>\n",
       "</table>\n"
      ],
      "text/plain": [
       "<pandas.io.formats.style.Styler at 0x17dd3691580>"
      ]
     },
     "execution_count": 10,
     "metadata": {},
     "output_type": "execute_result"
    }
   ],
   "source": [
    "df.head(10).style.background_gradient(cmap=\"gnuplot2\")\n"
   ]
  },
  {
   "cell_type": "code",
   "execution_count": 11,
   "metadata": {
    "scrolled": true
   },
   "outputs": [
    {
     "data": {
      "text/html": [
       "<style type=\"text/css\">\n",
       "#T_a6d37_row0_col0 {\n",
       "  background-color: #e4deae;\n",
       "  color: #000000;\n",
       "}\n",
       "#T_a6d37_row0_col3 {\n",
       "  background-color: #915d5d;\n",
       "  color: #f1f1f1;\n",
       "}\n",
       "#T_a6d37_row0_col4, #T_a6d37_row8_col4 {\n",
       "  background-color: #744a4a;\n",
       "  color: #f1f1f1;\n",
       "}\n",
       "#T_a6d37_row0_col5 {\n",
       "  background-color: #996262;\n",
       "  color: #f1f1f1;\n",
       "}\n",
       "#T_a6d37_row0_col6, #T_a6d37_row0_col8, #T_a6d37_row0_col10, #T_a6d37_row1_col6, #T_a6d37_row1_col8, #T_a6d37_row2_col4, #T_a6d37_row2_col5, #T_a6d37_row2_col6, #T_a6d37_row2_col8, #T_a6d37_row2_col10, #T_a6d37_row3_col3, #T_a6d37_row3_col6, #T_a6d37_row3_col8, #T_a6d37_row3_col9, #T_a6d37_row3_col10, #T_a6d37_row4_col4, #T_a6d37_row4_col5, #T_a6d37_row4_col7, #T_a6d37_row4_col8, #T_a6d37_row4_col10, #T_a6d37_row5_col5, #T_a6d37_row5_col8, #T_a6d37_row5_col10, #T_a6d37_row6_col0, #T_a6d37_row6_col6, #T_a6d37_row6_col10, #T_a6d37_row7_col5, #T_a6d37_row7_col6, #T_a6d37_row7_col7, #T_a6d37_row8_col8, #T_a6d37_row9_col3, #T_a6d37_row9_col6, #T_a6d37_row9_col8, #T_a6d37_row9_col10 {\n",
       "  background-color: #1e0000;\n",
       "  color: #f1f1f1;\n",
       "}\n",
       "#T_a6d37_row0_col7, #T_a6d37_row1_col3, #T_a6d37_row1_col7, #T_a6d37_row1_col10, #T_a6d37_row2_col7, #T_a6d37_row2_col9, #T_a6d37_row3_col5, #T_a6d37_row3_col7, #T_a6d37_row4_col0, #T_a6d37_row4_col6, #T_a6d37_row5_col6, #T_a6d37_row5_col7, #T_a6d37_row6_col4, #T_a6d37_row6_col7, #T_a6d37_row6_col8, #T_a6d37_row7_col8, #T_a6d37_row7_col10, #T_a6d37_row8_col6, #T_a6d37_row8_col7, #T_a6d37_row8_col10, #T_a6d37_row9_col7 {\n",
       "  background-color: #ffffff;\n",
       "  color: #000000;\n",
       "}\n",
       "#T_a6d37_row0_col9 {\n",
       "  background-color: #7c4f4f;\n",
       "  color: #f1f1f1;\n",
       "}\n",
       "#T_a6d37_row1_col0 {\n",
       "  background-color: #ac6f6f;\n",
       "  color: #f1f1f1;\n",
       "}\n",
       "#T_a6d37_row1_col4, #T_a6d37_row9_col4 {\n",
       "  background-color: #a16868;\n",
       "  color: #f1f1f1;\n",
       "}\n",
       "#T_a6d37_row1_col5 {\n",
       "  background-color: #d7be9d;\n",
       "  color: #000000;\n",
       "}\n",
       "#T_a6d37_row1_col9 {\n",
       "  background-color: #9e6666;\n",
       "  color: #f1f1f1;\n",
       "}\n",
       "#T_a6d37_row2_col0 {\n",
       "  background-color: #e8e7b3;\n",
       "  color: #000000;\n",
       "}\n",
       "#T_a6d37_row2_col3, #T_a6d37_row7_col3 {\n",
       "  background-color: #b57575;\n",
       "  color: #f1f1f1;\n",
       "}\n",
       "#T_a6d37_row3_col0 {\n",
       "  background-color: #cb9c8c;\n",
       "  color: #f1f1f1;\n",
       "}\n",
       "#T_a6d37_row3_col4, #T_a6d37_row7_col4 {\n",
       "  background-color: #ddcda5;\n",
       "  color: #000000;\n",
       "}\n",
       "#T_a6d37_row4_col3 {\n",
       "  background-color: #452929;\n",
       "  color: #f1f1f1;\n",
       "}\n",
       "#T_a6d37_row4_col9 {\n",
       "  background-color: #f1f1d1;\n",
       "  color: #000000;\n",
       "}\n",
       "#T_a6d37_row5_col0 {\n",
       "  background-color: #f6f6e4;\n",
       "  color: #000000;\n",
       "}\n",
       "#T_a6d37_row5_col3 {\n",
       "  background-color: #ca988a;\n",
       "  color: #f1f1f1;\n",
       "}\n",
       "#T_a6d37_row5_col4 {\n",
       "  background-color: #c38280;\n",
       "  color: #f1f1f1;\n",
       "}\n",
       "#T_a6d37_row5_col9 {\n",
       "  background-color: #c68c84;\n",
       "  color: #f1f1f1;\n",
       "}\n",
       "#T_a6d37_row6_col3 {\n",
       "  background-color: #aa6e6e;\n",
       "  color: #f1f1f1;\n",
       "}\n",
       "#T_a6d37_row6_col5 {\n",
       "  background-color: #c27f7e;\n",
       "  color: #f1f1f1;\n",
       "}\n",
       "#T_a6d37_row6_col9 {\n",
       "  background-color: #c99789;\n",
       "  color: #f1f1f1;\n",
       "}\n",
       "#T_a6d37_row7_col0 {\n",
       "  background-color: #e2d9ab;\n",
       "  color: #000000;\n",
       "}\n",
       "#T_a6d37_row7_col9 {\n",
       "  background-color: #5b3939;\n",
       "  color: #f1f1f1;\n",
       "}\n",
       "#T_a6d37_row8_col0 {\n",
       "  background-color: #f7f7e5;\n",
       "  color: #000000;\n",
       "}\n",
       "#T_a6d37_row8_col3 {\n",
       "  background-color: #d6bc9c;\n",
       "  color: #000000;\n",
       "}\n",
       "#T_a6d37_row8_col5 {\n",
       "  background-color: #cea691;\n",
       "  color: #000000;\n",
       "}\n",
       "#T_a6d37_row8_col9 {\n",
       "  background-color: #c48581;\n",
       "  color: #f1f1f1;\n",
       "}\n",
       "#T_a6d37_row9_col0 {\n",
       "  background-color: #fdfdf8;\n",
       "  color: #000000;\n",
       "}\n",
       "#T_a6d37_row9_col5 {\n",
       "  background-color: #f1f1d3;\n",
       "  color: #000000;\n",
       "}\n",
       "#T_a6d37_row9_col9 {\n",
       "  background-color: #4d2f2f;\n",
       "  color: #f1f1f1;\n",
       "}\n",
       "</style>\n",
       "<table id=\"T_a6d37_\">\n",
       "  <thead>\n",
       "    <tr>\n",
       "      <th class=\"blank level0\" >&nbsp;</th>\n",
       "      <th class=\"col_heading level0 col0\" >CreditScore</th>\n",
       "      <th class=\"col_heading level0 col1\" >Geography</th>\n",
       "      <th class=\"col_heading level0 col2\" >Gender</th>\n",
       "      <th class=\"col_heading level0 col3\" >Age</th>\n",
       "      <th class=\"col_heading level0 col4\" >Tenure</th>\n",
       "      <th class=\"col_heading level0 col5\" >Balance</th>\n",
       "      <th class=\"col_heading level0 col6\" >NumOfProducts</th>\n",
       "      <th class=\"col_heading level0 col7\" >HasCrCard</th>\n",
       "      <th class=\"col_heading level0 col8\" >IsActiveMember</th>\n",
       "      <th class=\"col_heading level0 col9\" >EstimatedSalary</th>\n",
       "      <th class=\"col_heading level0 col10\" >Exited</th>\n",
       "    </tr>\n",
       "  </thead>\n",
       "  <tbody>\n",
       "    <tr>\n",
       "      <th id=\"T_a6d37_level0_row0\" class=\"row_heading level0 row0\" >9990</th>\n",
       "      <td id=\"T_a6d37_row0_col0\" class=\"data row0 col0\" >714</td>\n",
       "      <td id=\"T_a6d37_row0_col1\" class=\"data row0 col1\" >Germany</td>\n",
       "      <td id=\"T_a6d37_row0_col2\" class=\"data row0 col2\" >Male</td>\n",
       "      <td id=\"T_a6d37_row0_col3\" class=\"data row0 col3\" >33</td>\n",
       "      <td id=\"T_a6d37_row0_col4\" class=\"data row0 col4\" >3</td>\n",
       "      <td id=\"T_a6d37_row0_col5\" class=\"data row0 col5\" >35016.600000</td>\n",
       "      <td id=\"T_a6d37_row0_col6\" class=\"data row0 col6\" >1</td>\n",
       "      <td id=\"T_a6d37_row0_col7\" class=\"data row0 col7\" >1</td>\n",
       "      <td id=\"T_a6d37_row0_col8\" class=\"data row0 col8\" >0</td>\n",
       "      <td id=\"T_a6d37_row0_col9\" class=\"data row0 col9\" >53667.080000</td>\n",
       "      <td id=\"T_a6d37_row0_col10\" class=\"data row0 col10\" >0</td>\n",
       "    </tr>\n",
       "    <tr>\n",
       "      <th id=\"T_a6d37_level0_row1\" class=\"row_heading level0 row1\" >9991</th>\n",
       "      <td id=\"T_a6d37_row1_col0\" class=\"data row1 col0\" >597</td>\n",
       "      <td id=\"T_a6d37_row1_col1\" class=\"data row1 col1\" >France</td>\n",
       "      <td id=\"T_a6d37_row1_col2\" class=\"data row1 col2\" >Female</td>\n",
       "      <td id=\"T_a6d37_row1_col3\" class=\"data row1 col3\" >53</td>\n",
       "      <td id=\"T_a6d37_row1_col4\" class=\"data row1 col4\" >4</td>\n",
       "      <td id=\"T_a6d37_row1_col5\" class=\"data row1 col5\" >88381.210000</td>\n",
       "      <td id=\"T_a6d37_row1_col6\" class=\"data row1 col6\" >1</td>\n",
       "      <td id=\"T_a6d37_row1_col7\" class=\"data row1 col7\" >1</td>\n",
       "      <td id=\"T_a6d37_row1_col8\" class=\"data row1 col8\" >0</td>\n",
       "      <td id=\"T_a6d37_row1_col9\" class=\"data row1 col9\" >69384.710000</td>\n",
       "      <td id=\"T_a6d37_row1_col10\" class=\"data row1 col10\" >1</td>\n",
       "    </tr>\n",
       "    <tr>\n",
       "      <th id=\"T_a6d37_level0_row2\" class=\"row_heading level0 row2\" >9992</th>\n",
       "      <td id=\"T_a6d37_row2_col0\" class=\"data row2 col0\" >726</td>\n",
       "      <td id=\"T_a6d37_row2_col1\" class=\"data row2 col1\" >Spain</td>\n",
       "      <td id=\"T_a6d37_row2_col2\" class=\"data row2 col2\" >Male</td>\n",
       "      <td id=\"T_a6d37_row2_col3\" class=\"data row2 col3\" >36</td>\n",
       "      <td id=\"T_a6d37_row2_col4\" class=\"data row2 col4\" >2</td>\n",
       "      <td id=\"T_a6d37_row2_col5\" class=\"data row2 col5\" >0.000000</td>\n",
       "      <td id=\"T_a6d37_row2_col6\" class=\"data row2 col6\" >1</td>\n",
       "      <td id=\"T_a6d37_row2_col7\" class=\"data row2 col7\" >1</td>\n",
       "      <td id=\"T_a6d37_row2_col8\" class=\"data row2 col8\" >0</td>\n",
       "      <td id=\"T_a6d37_row2_col9\" class=\"data row2 col9\" >195192.400000</td>\n",
       "      <td id=\"T_a6d37_row2_col10\" class=\"data row2 col10\" >0</td>\n",
       "    </tr>\n",
       "    <tr>\n",
       "      <th id=\"T_a6d37_level0_row3\" class=\"row_heading level0 row3\" >9993</th>\n",
       "      <td id=\"T_a6d37_row3_col0\" class=\"data row3 col0\" >644</td>\n",
       "      <td id=\"T_a6d37_row3_col1\" class=\"data row3 col1\" >France</td>\n",
       "      <td id=\"T_a6d37_row3_col2\" class=\"data row3 col2\" >Male</td>\n",
       "      <td id=\"T_a6d37_row3_col3\" class=\"data row3 col3\" >28</td>\n",
       "      <td id=\"T_a6d37_row3_col4\" class=\"data row3 col4\" >7</td>\n",
       "      <td id=\"T_a6d37_row3_col5\" class=\"data row3 col5\" >155060.410000</td>\n",
       "      <td id=\"T_a6d37_row3_col6\" class=\"data row3 col6\" >1</td>\n",
       "      <td id=\"T_a6d37_row3_col7\" class=\"data row3 col7\" >1</td>\n",
       "      <td id=\"T_a6d37_row3_col8\" class=\"data row3 col8\" >0</td>\n",
       "      <td id=\"T_a6d37_row3_col9\" class=\"data row3 col9\" >29179.520000</td>\n",
       "      <td id=\"T_a6d37_row3_col10\" class=\"data row3 col10\" >0</td>\n",
       "    </tr>\n",
       "    <tr>\n",
       "      <th id=\"T_a6d37_level0_row4\" class=\"row_heading level0 row4\" >9994</th>\n",
       "      <td id=\"T_a6d37_row4_col0\" class=\"data row4 col0\" >800</td>\n",
       "      <td id=\"T_a6d37_row4_col1\" class=\"data row4 col1\" >France</td>\n",
       "      <td id=\"T_a6d37_row4_col2\" class=\"data row4 col2\" >Female</td>\n",
       "      <td id=\"T_a6d37_row4_col3\" class=\"data row4 col3\" >29</td>\n",
       "      <td id=\"T_a6d37_row4_col4\" class=\"data row4 col4\" >2</td>\n",
       "      <td id=\"T_a6d37_row4_col5\" class=\"data row4 col5\" >0.000000</td>\n",
       "      <td id=\"T_a6d37_row4_col6\" class=\"data row4 col6\" >2</td>\n",
       "      <td id=\"T_a6d37_row4_col7\" class=\"data row4 col7\" >0</td>\n",
       "      <td id=\"T_a6d37_row4_col8\" class=\"data row4 col8\" >0</td>\n",
       "      <td id=\"T_a6d37_row4_col9\" class=\"data row4 col9\" >167773.550000</td>\n",
       "      <td id=\"T_a6d37_row4_col10\" class=\"data row4 col10\" >0</td>\n",
       "    </tr>\n",
       "    <tr>\n",
       "      <th id=\"T_a6d37_level0_row5\" class=\"row_heading level0 row5\" >9995</th>\n",
       "      <td id=\"T_a6d37_row5_col0\" class=\"data row5 col0\" >771</td>\n",
       "      <td id=\"T_a6d37_row5_col1\" class=\"data row5 col1\" >France</td>\n",
       "      <td id=\"T_a6d37_row5_col2\" class=\"data row5 col2\" >Male</td>\n",
       "      <td id=\"T_a6d37_row5_col3\" class=\"data row5 col3\" >39</td>\n",
       "      <td id=\"T_a6d37_row5_col4\" class=\"data row5 col4\" >5</td>\n",
       "      <td id=\"T_a6d37_row5_col5\" class=\"data row5 col5\" >0.000000</td>\n",
       "      <td id=\"T_a6d37_row5_col6\" class=\"data row5 col6\" >2</td>\n",
       "      <td id=\"T_a6d37_row5_col7\" class=\"data row5 col7\" >1</td>\n",
       "      <td id=\"T_a6d37_row5_col8\" class=\"data row5 col8\" >0</td>\n",
       "      <td id=\"T_a6d37_row5_col9\" class=\"data row5 col9\" >96270.640000</td>\n",
       "      <td id=\"T_a6d37_row5_col10\" class=\"data row5 col10\" >0</td>\n",
       "    </tr>\n",
       "    <tr>\n",
       "      <th id=\"T_a6d37_level0_row6\" class=\"row_heading level0 row6\" >9996</th>\n",
       "      <td id=\"T_a6d37_row6_col0\" class=\"data row6 col0\" >516</td>\n",
       "      <td id=\"T_a6d37_row6_col1\" class=\"data row6 col1\" >France</td>\n",
       "      <td id=\"T_a6d37_row6_col2\" class=\"data row6 col2\" >Male</td>\n",
       "      <td id=\"T_a6d37_row6_col3\" class=\"data row6 col3\" >35</td>\n",
       "      <td id=\"T_a6d37_row6_col4\" class=\"data row6 col4\" >10</td>\n",
       "      <td id=\"T_a6d37_row6_col5\" class=\"data row6 col5\" >57369.610000</td>\n",
       "      <td id=\"T_a6d37_row6_col6\" class=\"data row6 col6\" >1</td>\n",
       "      <td id=\"T_a6d37_row6_col7\" class=\"data row6 col7\" >1</td>\n",
       "      <td id=\"T_a6d37_row6_col8\" class=\"data row6 col8\" >1</td>\n",
       "      <td id=\"T_a6d37_row6_col9\" class=\"data row6 col9\" >101699.770000</td>\n",
       "      <td id=\"T_a6d37_row6_col10\" class=\"data row6 col10\" >0</td>\n",
       "    </tr>\n",
       "    <tr>\n",
       "      <th id=\"T_a6d37_level0_row7\" class=\"row_heading level0 row7\" >9997</th>\n",
       "      <td id=\"T_a6d37_row7_col0\" class=\"data row7 col0\" >709</td>\n",
       "      <td id=\"T_a6d37_row7_col1\" class=\"data row7 col1\" >France</td>\n",
       "      <td id=\"T_a6d37_row7_col2\" class=\"data row7 col2\" >Female</td>\n",
       "      <td id=\"T_a6d37_row7_col3\" class=\"data row7 col3\" >36</td>\n",
       "      <td id=\"T_a6d37_row7_col4\" class=\"data row7 col4\" >7</td>\n",
       "      <td id=\"T_a6d37_row7_col5\" class=\"data row7 col5\" >0.000000</td>\n",
       "      <td id=\"T_a6d37_row7_col6\" class=\"data row7 col6\" >1</td>\n",
       "      <td id=\"T_a6d37_row7_col7\" class=\"data row7 col7\" >0</td>\n",
       "      <td id=\"T_a6d37_row7_col8\" class=\"data row7 col8\" >1</td>\n",
       "      <td id=\"T_a6d37_row7_col9\" class=\"data row7 col9\" >42085.580000</td>\n",
       "      <td id=\"T_a6d37_row7_col10\" class=\"data row7 col10\" >1</td>\n",
       "    </tr>\n",
       "    <tr>\n",
       "      <th id=\"T_a6d37_level0_row8\" class=\"row_heading level0 row8\" >9998</th>\n",
       "      <td id=\"T_a6d37_row8_col0\" class=\"data row8 col0\" >772</td>\n",
       "      <td id=\"T_a6d37_row8_col1\" class=\"data row8 col1\" >Germany</td>\n",
       "      <td id=\"T_a6d37_row8_col2\" class=\"data row8 col2\" >Male</td>\n",
       "      <td id=\"T_a6d37_row8_col3\" class=\"data row8 col3\" >42</td>\n",
       "      <td id=\"T_a6d37_row8_col4\" class=\"data row8 col4\" >3</td>\n",
       "      <td id=\"T_a6d37_row8_col5\" class=\"data row8 col5\" >75075.310000</td>\n",
       "      <td id=\"T_a6d37_row8_col6\" class=\"data row8 col6\" >2</td>\n",
       "      <td id=\"T_a6d37_row8_col7\" class=\"data row8 col7\" >1</td>\n",
       "      <td id=\"T_a6d37_row8_col8\" class=\"data row8 col8\" >0</td>\n",
       "      <td id=\"T_a6d37_row8_col9\" class=\"data row8 col9\" >92888.520000</td>\n",
       "      <td id=\"T_a6d37_row8_col10\" class=\"data row8 col10\" >1</td>\n",
       "    </tr>\n",
       "    <tr>\n",
       "      <th id=\"T_a6d37_level0_row9\" class=\"row_heading level0 row9\" >9999</th>\n",
       "      <td id=\"T_a6d37_row9_col0\" class=\"data row9 col0\" >792</td>\n",
       "      <td id=\"T_a6d37_row9_col1\" class=\"data row9 col1\" >France</td>\n",
       "      <td id=\"T_a6d37_row9_col2\" class=\"data row9 col2\" >Female</td>\n",
       "      <td id=\"T_a6d37_row9_col3\" class=\"data row9 col3\" >28</td>\n",
       "      <td id=\"T_a6d37_row9_col4\" class=\"data row9 col4\" >4</td>\n",
       "      <td id=\"T_a6d37_row9_col5\" class=\"data row9 col5\" >130142.790000</td>\n",
       "      <td id=\"T_a6d37_row9_col6\" class=\"data row9 col6\" >1</td>\n",
       "      <td id=\"T_a6d37_row9_col7\" class=\"data row9 col7\" >1</td>\n",
       "      <td id=\"T_a6d37_row9_col8\" class=\"data row9 col8\" >0</td>\n",
       "      <td id=\"T_a6d37_row9_col9\" class=\"data row9 col9\" >38190.780000</td>\n",
       "      <td id=\"T_a6d37_row9_col10\" class=\"data row9 col10\" >0</td>\n",
       "    </tr>\n",
       "  </tbody>\n",
       "</table>\n"
      ],
      "text/plain": [
       "<pandas.io.formats.style.Styler at 0x17dd326e280>"
      ]
     },
     "execution_count": 11,
     "metadata": {},
     "output_type": "execute_result"
    }
   ],
   "source": [
    "df.tail(10).style.background_gradient(cmap=\"pink\")"
   ]
  },
  {
   "cell_type": "code",
   "execution_count": 13,
   "metadata": {},
   "outputs": [],
   "source": [
    "corr=df.corr()"
   ]
  },
  {
   "cell_type": "code",
   "execution_count": 14,
   "metadata": {
    "scrolled": true
   },
   "outputs": [
    {
     "data": {
      "text/plain": [
       "<AxesSubplot:>"
      ]
     },
     "execution_count": 14,
     "metadata": {},
     "output_type": "execute_result"
    },
    {
     "data": {
      "image/png": "[encoded data removed]",
      "text/plain": [
       "<Figure size 1800x720 with 2 Axes>"
      ]
     },
     "metadata": {
      "needs_background": "light"
     },
     "output_type": "display_data"
    }
   ],
   "source": [
    "plt.figure(figsize=(25,10))\n",
    "\n",
    "sns.heatmap(corr,annot=True,cmap='bwr_r')"
   ]
  },
  {
   "cell_type": "markdown",
   "metadata": {},
   "source": [
    "# 3. Perform Below Visualizations.\n",
    "# ● Univariate Analysis\n",
    "# ● Bi - Variate Analysis\n",
    "# ● Multi - Variate Analysis"
   ]
  },
  {
   "cell_type": "code",
   "execution_count": 15,
   "metadata": {},
   "outputs": [
    {
     "data": {
      "text/plain": [
       "<AxesSubplot:xlabel='Geography', ylabel='count'>"
      ]
     },
     "execution_count": 15,
     "metadata": {},
     "output_type": "execute_result"
    },
    {
     "data": {
      "image/png": "[encoded data removed]",
      "text/plain": [
       "<Figure size 720x360 with 1 Axes>"
      ]
     },
     "metadata": {
      "needs_background": "light"
     },
     "output_type": "display_data"
    }
   ],
   "source": [
    "plt.figure(figsize=(10,5))\n",
    "sns.countplot(data=df, x='Geography',palette=\"dark\")"
   ]
  },
  {
   "cell_type": "code",
   "execution_count": 16,
   "metadata": {
    "scrolled": true
   },
   "outputs": [
    {
     "data": {
      "image/png": "[encoded data removed]",
      "text/plain": [
       "<Figure size 432x288 with 1 Axes>"
      ]
     },
     "metadata": {
      "needs_background": "light"
     },
     "output_type": "display_data"
    }
   ],
   "source": [
    "\n",
    "density = df['Exited'].value_counts(normalize=True).reset_index()\n",
    "sns.barplot(data=density, x='index', y='Exited',color=\"orange\");\n"
   ]
  },
  {
   "cell_type": "code",
   "execution_count": 17,
   "metadata": {},
   "outputs": [
    {
     "data": {
      "text/html": [
       "<div>\n",
       "<style scoped>\n",
       "    .dataframe tbody tr th:only-of-type {\n",
       "        vertical-align: middle;\n",
       "    }\n",
       "\n",
       "    .dataframe tbody tr th {\n",
       "        vertical-align: top;\n",
       "    }\n",
       "\n",
       "    .dataframe thead th {\n",
       "        text-align: right;\n",
       "    }\n",
       "</style>\n",
       "<table border=\"1\" class=\"dataframe\">\n",
       "  <thead>\n",
       "    <tr style=\"text-align: right;\">\n",
       "      <th></th>\n",
       "      <th>index</th>\n",
       "      <th>Exited</th>\n",
       "    </tr>\n",
       "  </thead>\n",
       "  <tbody>\n",
       "    <tr>\n",
       "      <th>0</th>\n",
       "      <td>0</td>\n",
       "      <td>0.7963</td>\n",
       "    </tr>\n",
       "    <tr>\n",
       "      <th>1</th>\n",
       "      <td>1</td>\n",
       "      <td>0.2037</td>\n",
       "    </tr>\n",
       "  </tbody>\n",
       "</table>\n",
       "</div>"
      ],
      "text/plain": [
       "   index  Exited\n",
       "0      0  0.7963\n",
       "1      1  0.2037"
      ]
     },
     "execution_count": 17,
     "metadata": {},
     "output_type": "execute_result"
    }
   ],
   "source": [
    "density"
   ]
  },
  {
   "cell_type": "markdown",
   "metadata": {},
   "source": [
    "### The data is  imbalanced"
   ]
  },
  {
   "cell_type": "code",
   "execution_count": 18,
   "metadata": {},
   "outputs": [],
   "source": [
    "categorical = df.drop(columns=['CreditScore', 'Age', 'Tenure', 'Balance', 'EstimatedSalary'])"
   ]
  },
  {
   "cell_type": "code",
   "execution_count": 20,
   "metadata": {},
   "outputs": [
    {
     "data": {
      "image/png": "[encoded data removed]",
      "text/plain": [
       "<Figure size 720x432 with 4 Axes>"
      ]
     },
     "metadata": {
      "needs_background": "light"
     },
     "output_type": "display_data"
    }
   ],
   "source": [
    "rows = int(np.ceil(categorical.shape[1] / 2)) - 1\n",
    "# create sub-plots anf title them\n",
    "fig, axes = plt.subplots(nrows=rows, ncols=2, figsize=(10,6))\n",
    "axes = axes.flatten()\n",
    "\n",
    "for row in range(rows):\n",
    "    cols = min(2, categorical.shape[1] - row*2)\n",
    "    for col in range(cols):\n",
    "        col_name = categorical.columns[2 * row + col]\n",
    "        ax = axes[row*2 + col]       \n",
    "\n",
    "        df=sns.countplot(data=categorical, x=col_name, hue=\"Exited\", ax=ax,color=\"black\",edgecolor=sns.color_palette(\"dark\", 5));\n",
    "        plt.tight_layout()"
   ]
  },
  {
   "cell_type": "markdown",
   "metadata": {},
   "source": [
    "# 4. Perform descriptive statistics on the dataset."
   ]
  },
  {
   "cell_type": "code",
   "execution_count": 26,
   "metadata": {},
   "outputs": [
    {
     "data": {
      "text/html": [
       "<style type=\"text/css\">\n",
       "#T_d54ea_row0_col0, #T_d54ea_row0_col2, #T_d54ea_row0_col3, #T_d54ea_row0_col4, #T_d54ea_row0_col6, #T_d54ea_row0_col7, #T_d54ea_row0_col8, #T_d54ea_row0_col10, #T_d54ea_row7_col0, #T_d54ea_row7_col1, #T_d54ea_row7_col5, #T_d54ea_row7_col9 {\n",
       "  background-color: #03051a;\n",
       "  color: #f1f1f1;\n",
       "}\n",
       "#T_d54ea_row0_col1, #T_d54ea_row1_col3, #T_d54ea_row1_col4, #T_d54ea_row1_col6, #T_d54ea_row1_col7, #T_d54ea_row1_col8, #T_d54ea_row1_col10, #T_d54ea_row2_col2, #T_d54ea_row2_col3, #T_d54ea_row2_col4, #T_d54ea_row2_col6, #T_d54ea_row2_col7, #T_d54ea_row2_col8, #T_d54ea_row2_col10, #T_d54ea_row3_col0, #T_d54ea_row3_col3, #T_d54ea_row3_col4, #T_d54ea_row3_col5, #T_d54ea_row3_col6, #T_d54ea_row3_col7, #T_d54ea_row3_col8, #T_d54ea_row3_col9, #T_d54ea_row3_col10, #T_d54ea_row4_col3, #T_d54ea_row4_col4, #T_d54ea_row4_col5, #T_d54ea_row4_col6, #T_d54ea_row4_col7, #T_d54ea_row4_col8, #T_d54ea_row4_col10, #T_d54ea_row5_col3, #T_d54ea_row5_col4, #T_d54ea_row5_col6, #T_d54ea_row5_col7, #T_d54ea_row5_col8, #T_d54ea_row5_col10, #T_d54ea_row6_col3, #T_d54ea_row6_col4, #T_d54ea_row6_col6, #T_d54ea_row6_col7, #T_d54ea_row6_col8, #T_d54ea_row6_col10, #T_d54ea_row7_col4, #T_d54ea_row7_col6, #T_d54ea_row7_col7, #T_d54ea_row7_col8, #T_d54ea_row7_col10 {\n",
       "  background-color: #faebdd;\n",
       "  color: #000000;\n",
       "}\n",
       "#T_d54ea_row0_col5 {\n",
       "  background-color: #f8dcc7;\n",
       "  color: #000000;\n",
       "}\n",
       "#T_d54ea_row0_col9, #T_d54ea_row4_col2 {\n",
       "  background-color: #f8d9c3;\n",
       "  color: #000000;\n",
       "}\n",
       "#T_d54ea_row1_col0, #T_d54ea_row1_col9, #T_d54ea_row5_col0, #T_d54ea_row5_col9 {\n",
       "  background-color: #ca1a50;\n",
       "  color: #f1f1f1;\n",
       "}\n",
       "#T_d54ea_row1_col1, #T_d54ea_row5_col1 {\n",
       "  background-color: #05061b;\n",
       "  color: #f1f1f1;\n",
       "}\n",
       "#T_d54ea_row1_col2, #T_d54ea_row5_col2 {\n",
       "  background-color: #f8d6be;\n",
       "  color: #000000;\n",
       "}\n",
       "#T_d54ea_row1_col5 {\n",
       "  background-color: #f26d4b;\n",
       "  color: #f1f1f1;\n",
       "}\n",
       "#T_d54ea_row2_col0, #T_d54ea_row2_col9 {\n",
       "  background-color: #f37651;\n",
       "  color: #f1f1f1;\n",
       "}\n",
       "#T_d54ea_row2_col1 {\n",
       "  background-color: #fae9da;\n",
       "  color: #000000;\n",
       "}\n",
       "#T_d54ea_row2_col5 {\n",
       "  background-color: #f58860;\n",
       "  color: #f1f1f1;\n",
       "}\n",
       "#T_d54ea_row3_col1 {\n",
       "  background-color: #07071d;\n",
       "  color: #f1f1f1;\n",
       "}\n",
       "#T_d54ea_row3_col2 {\n",
       "  background-color: #f9e2d0;\n",
       "  color: #000000;\n",
       "}\n",
       "#T_d54ea_row4_col0 {\n",
       "  background-color: #f4865e;\n",
       "  color: #f1f1f1;\n",
       "}\n",
       "#T_d54ea_row4_col1 {\n",
       "  background-color: #06071c;\n",
       "  color: #f1f1f1;\n",
       "}\n",
       "#T_d54ea_row4_col9 {\n",
       "  background-color: #f4845d;\n",
       "  color: #f1f1f1;\n",
       "}\n",
       "#T_d54ea_row5_col5 {\n",
       "  background-color: #ea443e;\n",
       "  color: #f1f1f1;\n",
       "}\n",
       "#T_d54ea_row6_col0 {\n",
       "  background-color: #601f52;\n",
       "  color: #f1f1f1;\n",
       "}\n",
       "#T_d54ea_row6_col1 {\n",
       "  background-color: #04051a;\n",
       "  color: #f1f1f1;\n",
       "}\n",
       "#T_d54ea_row6_col2 {\n",
       "  background-color: #f8d3ba;\n",
       "  color: #000000;\n",
       "}\n",
       "#T_d54ea_row6_col5 {\n",
       "  background-color: #c71951;\n",
       "  color: #f1f1f1;\n",
       "}\n",
       "#T_d54ea_row6_col9 {\n",
       "  background-color: #611f53;\n",
       "  color: #f1f1f1;\n",
       "}\n",
       "#T_d54ea_row7_col2 {\n",
       "  background-color: #f7cfb3;\n",
       "  color: #000000;\n",
       "}\n",
       "#T_d54ea_row7_col3 {\n",
       "  background-color: #fae8d8;\n",
       "  color: #000000;\n",
       "}\n",
       "</style>\n",
       "<table id=\"T_d54ea_\">\n",
       "  <thead>\n",
       "    <tr>\n",
       "      <th class=\"blank level0\" >&nbsp;</th>\n",
       "      <th class=\"col_heading level0 col0\" >RowNumber</th>\n",
       "      <th class=\"col_heading level0 col1\" >CustomerId</th>\n",
       "      <th class=\"col_heading level0 col2\" >CreditScore</th>\n",
       "      <th class=\"col_heading level0 col3\" >Age</th>\n",
       "      <th class=\"col_heading level0 col4\" >Tenure</th>\n",
       "      <th class=\"col_heading level0 col5\" >Balance</th>\n",
       "      <th class=\"col_heading level0 col6\" >NumOfProducts</th>\n",
       "      <th class=\"col_heading level0 col7\" >HasCrCard</th>\n",
       "      <th class=\"col_heading level0 col8\" >IsActiveMember</th>\n",
       "      <th class=\"col_heading level0 col9\" >EstimatedSalary</th>\n",
       "      <th class=\"col_heading level0 col10\" >Exited</th>\n",
       "    </tr>\n",
       "  </thead>\n",
       "  <tbody>\n",
       "    <tr>\n",
       "      <th id=\"T_d54ea_level0_row0\" class=\"row_heading level0 row0\" >count</th>\n",
       "      <td id=\"T_d54ea_row0_col0\" class=\"data row0 col0\" >10000.000000</td>\n",
       "      <td id=\"T_d54ea_row0_col1\" class=\"data row0 col1\" >10000.000000</td>\n",
       "      <td id=\"T_d54ea_row0_col2\" class=\"data row0 col2\" >10000.000000</td>\n",
       "      <td id=\"T_d54ea_row0_col3\" class=\"data row0 col3\" >10000.000000</td>\n",
       "      <td id=\"T_d54ea_row0_col4\" class=\"data row0 col4\" >10000.000000</td>\n",
       "      <td id=\"T_d54ea_row0_col5\" class=\"data row0 col5\" >10000.000000</td>\n",
       "      <td id=\"T_d54ea_row0_col6\" class=\"data row0 col6\" >10000.000000</td>\n",
       "      <td id=\"T_d54ea_row0_col7\" class=\"data row0 col7\" >10000.000000</td>\n",
       "      <td id=\"T_d54ea_row0_col8\" class=\"data row0 col8\" >10000.000000</td>\n",
       "      <td id=\"T_d54ea_row0_col9\" class=\"data row0 col9\" >10000.000000</td>\n",
       "      <td id=\"T_d54ea_row0_col10\" class=\"data row0 col10\" >10000.000000</td>\n",
       "    </tr>\n",
       "    <tr>\n",
       "      <th id=\"T_d54ea_level0_row1\" class=\"row_heading level0 row1\" >mean</th>\n",
       "      <td id=\"T_d54ea_row1_col0\" class=\"data row1 col0\" >5000.500000</td>\n",
       "      <td id=\"T_d54ea_row1_col1\" class=\"data row1 col1\" >15690940.569400</td>\n",
       "      <td id=\"T_d54ea_row1_col2\" class=\"data row1 col2\" >650.528800</td>\n",
       "      <td id=\"T_d54ea_row1_col3\" class=\"data row1 col3\" >38.921800</td>\n",
       "      <td id=\"T_d54ea_row1_col4\" class=\"data row1 col4\" >5.012800</td>\n",
       "      <td id=\"T_d54ea_row1_col5\" class=\"data row1 col5\" >76485.889288</td>\n",
       "      <td id=\"T_d54ea_row1_col6\" class=\"data row1 col6\" >1.530200</td>\n",
       "      <td id=\"T_d54ea_row1_col7\" class=\"data row1 col7\" >0.705500</td>\n",
       "      <td id=\"T_d54ea_row1_col8\" class=\"data row1 col8\" >0.515100</td>\n",
       "      <td id=\"T_d54ea_row1_col9\" class=\"data row1 col9\" >100090.239881</td>\n",
       "      <td id=\"T_d54ea_row1_col10\" class=\"data row1 col10\" >0.203700</td>\n",
       "    </tr>\n",
       "    <tr>\n",
       "      <th id=\"T_d54ea_level0_row2\" class=\"row_heading level0 row2\" >std</th>\n",
       "      <td id=\"T_d54ea_row2_col0\" class=\"data row2 col0\" >2886.895680</td>\n",
       "      <td id=\"T_d54ea_row2_col1\" class=\"data row2 col1\" >71936.186123</td>\n",
       "      <td id=\"T_d54ea_row2_col2\" class=\"data row2 col2\" >96.653299</td>\n",
       "      <td id=\"T_d54ea_row2_col3\" class=\"data row2 col3\" >10.487806</td>\n",
       "      <td id=\"T_d54ea_row2_col4\" class=\"data row2 col4\" >2.892174</td>\n",
       "      <td id=\"T_d54ea_row2_col5\" class=\"data row2 col5\" >62397.405202</td>\n",
       "      <td id=\"T_d54ea_row2_col6\" class=\"data row2 col6\" >0.581654</td>\n",
       "      <td id=\"T_d54ea_row2_col7\" class=\"data row2 col7\" >0.455840</td>\n",
       "      <td id=\"T_d54ea_row2_col8\" class=\"data row2 col8\" >0.499797</td>\n",
       "      <td id=\"T_d54ea_row2_col9\" class=\"data row2 col9\" >57510.492818</td>\n",
       "      <td id=\"T_d54ea_row2_col10\" class=\"data row2 col10\" >0.402769</td>\n",
       "    </tr>\n",
       "    <tr>\n",
       "      <th id=\"T_d54ea_level0_row3\" class=\"row_heading level0 row3\" >min</th>\n",
       "      <td id=\"T_d54ea_row3_col0\" class=\"data row3 col0\" >1.000000</td>\n",
       "      <td id=\"T_d54ea_row3_col1\" class=\"data row3 col1\" >15565701.000000</td>\n",
       "      <td id=\"T_d54ea_row3_col2\" class=\"data row3 col2\" >350.000000</td>\n",
       "      <td id=\"T_d54ea_row3_col3\" class=\"data row3 col3\" >18.000000</td>\n",
       "      <td id=\"T_d54ea_row3_col4\" class=\"data row3 col4\" >0.000000</td>\n",
       "      <td id=\"T_d54ea_row3_col5\" class=\"data row3 col5\" >0.000000</td>\n",
       "      <td id=\"T_d54ea_row3_col6\" class=\"data row3 col6\" >1.000000</td>\n",
       "      <td id=\"T_d54ea_row3_col7\" class=\"data row3 col7\" >0.000000</td>\n",
       "      <td id=\"T_d54ea_row3_col8\" class=\"data row3 col8\" >0.000000</td>\n",
       "      <td id=\"T_d54ea_row3_col9\" class=\"data row3 col9\" >11.580000</td>\n",
       "      <td id=\"T_d54ea_row3_col10\" class=\"data row3 col10\" >0.000000</td>\n",
       "    </tr>\n",
       "    <tr>\n",
       "      <th id=\"T_d54ea_level0_row4\" class=\"row_heading level0 row4\" >25%</th>\n",
       "      <td id=\"T_d54ea_row4_col0\" class=\"data row4 col0\" >2500.750000</td>\n",
       "      <td id=\"T_d54ea_row4_col1\" class=\"data row4 col1\" >15628528.250000</td>\n",
       "      <td id=\"T_d54ea_row4_col2\" class=\"data row4 col2\" >584.000000</td>\n",
       "      <td id=\"T_d54ea_row4_col3\" class=\"data row4 col3\" >32.000000</td>\n",
       "      <td id=\"T_d54ea_row4_col4\" class=\"data row4 col4\" >3.000000</td>\n",
       "      <td id=\"T_d54ea_row4_col5\" class=\"data row4 col5\" >0.000000</td>\n",
       "      <td id=\"T_d54ea_row4_col6\" class=\"data row4 col6\" >1.000000</td>\n",
       "      <td id=\"T_d54ea_row4_col7\" class=\"data row4 col7\" >0.000000</td>\n",
       "      <td id=\"T_d54ea_row4_col8\" class=\"data row4 col8\" >0.000000</td>\n",
       "      <td id=\"T_d54ea_row4_col9\" class=\"data row4 col9\" >51002.110000</td>\n",
       "      <td id=\"T_d54ea_row4_col10\" class=\"data row4 col10\" >0.000000</td>\n",
       "    </tr>\n",
       "    <tr>\n",
       "      <th id=\"T_d54ea_level0_row5\" class=\"row_heading level0 row5\" >50%</th>\n",
       "      <td id=\"T_d54ea_row5_col0\" class=\"data row5 col0\" >5000.500000</td>\n",
       "      <td id=\"T_d54ea_row5_col1\" class=\"data row5 col1\" >15690738.000000</td>\n",
       "      <td id=\"T_d54ea_row5_col2\" class=\"data row5 col2\" >652.000000</td>\n",
       "      <td id=\"T_d54ea_row5_col3\" class=\"data row5 col3\" >37.000000</td>\n",
       "      <td id=\"T_d54ea_row5_col4\" class=\"data row5 col4\" >5.000000</td>\n",
       "      <td id=\"T_d54ea_row5_col5\" class=\"data row5 col5\" >97198.540000</td>\n",
       "      <td id=\"T_d54ea_row5_col6\" class=\"data row5 col6\" >1.000000</td>\n",
       "      <td id=\"T_d54ea_row5_col7\" class=\"data row5 col7\" >1.000000</td>\n",
       "      <td id=\"T_d54ea_row5_col8\" class=\"data row5 col8\" >1.000000</td>\n",
       "      <td id=\"T_d54ea_row5_col9\" class=\"data row5 col9\" >100193.915000</td>\n",
       "      <td id=\"T_d54ea_row5_col10\" class=\"data row5 col10\" >0.000000</td>\n",
       "    </tr>\n",
       "    <tr>\n",
       "      <th id=\"T_d54ea_level0_row6\" class=\"row_heading level0 row6\" >75%</th>\n",
       "      <td id=\"T_d54ea_row6_col0\" class=\"data row6 col0\" >7500.250000</td>\n",
       "      <td id=\"T_d54ea_row6_col1\" class=\"data row6 col1\" >15753233.750000</td>\n",
       "      <td id=\"T_d54ea_row6_col2\" class=\"data row6 col2\" >718.000000</td>\n",
       "      <td id=\"T_d54ea_row6_col3\" class=\"data row6 col3\" >44.000000</td>\n",
       "      <td id=\"T_d54ea_row6_col4\" class=\"data row6 col4\" >7.000000</td>\n",
       "      <td id=\"T_d54ea_row6_col5\" class=\"data row6 col5\" >127644.240000</td>\n",
       "      <td id=\"T_d54ea_row6_col6\" class=\"data row6 col6\" >2.000000</td>\n",
       "      <td id=\"T_d54ea_row6_col7\" class=\"data row6 col7\" >1.000000</td>\n",
       "      <td id=\"T_d54ea_row6_col8\" class=\"data row6 col8\" >1.000000</td>\n",
       "      <td id=\"T_d54ea_row6_col9\" class=\"data row6 col9\" >149388.247500</td>\n",
       "      <td id=\"T_d54ea_row6_col10\" class=\"data row6 col10\" >0.000000</td>\n",
       "    </tr>\n",
       "    <tr>\n",
       "      <th id=\"T_d54ea_level0_row7\" class=\"row_heading level0 row7\" >max</th>\n",
       "      <td id=\"T_d54ea_row7_col0\" class=\"data row7 col0\" >10000.000000</td>\n",
       "      <td id=\"T_d54ea_row7_col1\" class=\"data row7 col1\" >15815690.000000</td>\n",
       "      <td id=\"T_d54ea_row7_col2\" class=\"data row7 col2\" >850.000000</td>\n",
       "      <td id=\"T_d54ea_row7_col3\" class=\"data row7 col3\" >92.000000</td>\n",
       "      <td id=\"T_d54ea_row7_col4\" class=\"data row7 col4\" >10.000000</td>\n",
       "      <td id=\"T_d54ea_row7_col5\" class=\"data row7 col5\" >250898.090000</td>\n",
       "      <td id=\"T_d54ea_row7_col6\" class=\"data row7 col6\" >4.000000</td>\n",
       "      <td id=\"T_d54ea_row7_col7\" class=\"data row7 col7\" >1.000000</td>\n",
       "      <td id=\"T_d54ea_row7_col8\" class=\"data row7 col8\" >1.000000</td>\n",
       "      <td id=\"T_d54ea_row7_col9\" class=\"data row7 col9\" >199992.480000</td>\n",
       "      <td id=\"T_d54ea_row7_col10\" class=\"data row7 col10\" >1.000000</td>\n",
       "    </tr>\n",
       "  </tbody>\n",
       "</table>\n"
      ],
      "text/plain": [
       "<pandas.io.formats.style.Styler at 0x17dd4323910>"
      ]
     },
     "execution_count": 26,
     "metadata": {},
     "output_type": "execute_result"
    }
   ],
   "source": [
    "df.describe().style.background_gradient(cmap='rocket_r')"
   ]
  },
  {
   "cell_type": "markdown",
   "metadata": {},
   "source": [
    "# 5. Handle the Missing values."
   ]
  },
  {
   "cell_type": "code",
   "execution_count": 27,
   "metadata": {},
   "outputs": [
    {
     "data": {
      "text/plain": [
       "Series([], dtype: float64)"
      ]
     },
     "execution_count": 27,
     "metadata": {},
     "output_type": "execute_result"
    }
   ],
   "source": [
    "missing_values=df.columns[df.isnull().any()]\n",
    "df[missing_values].isnull().sum()"
   ]
  },
  {
   "cell_type": "code",
   "execution_count": 28,
   "metadata": {
    "scrolled": false
   },
   "outputs": [
    {
     "data": {
      "text/plain": [
       "RowNumber          0\n",
       "CustomerId         0\n",
       "Surname            0\n",
       "CreditScore        0\n",
       "Geography          0\n",
       "Gender             0\n",
       "Age                0\n",
       "Tenure             0\n",
       "Balance            0\n",
       "NumOfProducts      0\n",
       "HasCrCard          0\n",
       "IsActiveMember     0\n",
       "EstimatedSalary    0\n",
       "Exited             0\n",
       "dtype: int64"
      ]
     },
     "execution_count": 28,
     "metadata": {},
     "output_type": "execute_result"
    }
   ],
   "source": [
    "df.isna().sum()"
   ]
  },
  {
   "cell_type": "code",
   "execution_count": 29,
   "metadata": {
    "scrolled": false
   },
   "outputs": [
    {
     "data": {
      "image/png": "[encoded data removed]",
      "text/plain": [
       "<Figure size 720x360 with 2 Axes>"
      ]
     },
     "metadata": {
      "needs_background": "light"
     },
     "output_type": "display_data"
    }
   ],
   "source": [
    "labels = []\n",
    "valuecount = []\n",
    "percentcount = []\n",
    "for col in missing_values:\n",
    "    labels.append(col)\n",
    "    valuecount.append(file[col].isnull().sum())\n",
    "    percentcount.append(file[col].isnull().sum()/file.shape[0]) \n",
    "ind = np.arange(len(labels))\n",
    "fig, (ax1, ax2) = plt.subplots(1,2,figsize=(10,5))\n",
    "rects = ax1.barh(ind, np.array(valuecount), color='yellow')\n",
    "ax1.set_yticks(ind)\n",
    "ax1.set_yticklabels(labels, rotation='horizontal')\n",
    "ax1.set_xlabel(\"Count of missing values\")\n",
    "ax1.set_title(\"Variables with missing values\");\n",
    "rects = ax2.barh(ind, np.array(percentcount), color='green')\n",
    "ax2.set_yticks(ind)\n",
    "ax2.set_yticklabels(labels, rotation='horizontal')\n",
    "ax2.set_xlabel(\"Percentage of missing values\")\n",
    "ax2.set_title(\"Variables with missing values\");"
   ]
  },
  {
   "cell_type": "markdown",
   "metadata": {},
   "source": [
    "## There is no missing values found in data"
   ]
  },
  {
   "cell_type": "markdown",
   "metadata": {},
   "source": [
    "# 6. Find the outliers and replace the outliers"
   ]
  },
  {
   "cell_type": "markdown",
   "metadata": {},
   "source": [
    "## Checking for outliers"
   ]
  },
  {
   "cell_type": "code",
   "execution_count": 32,
   "metadata": {},
   "outputs": [],
   "source": [
    "def box_scatter(data, x, y):    \n",
    "    fig, (ax1, ax2) = plt.subplots(nrows=2, ncols=1, figsize=(16,6))\n",
    "    sns.boxplot(data=data, x=x, ax=ax1,palette=\"dark\",color=\"red\")\n",
    "    sns.scatterplot(data=data, x=x,y=y,ax=ax2,markers=\"x\",color=\"orange\")"
   ]
  },
  {
   "cell_type": "code",
   "execution_count": 33,
   "metadata": {},
   "outputs": [
    {
     "name": "stdout",
     "output_type": "stream",
     "text": [
      "# of Bivariate Outliers: 19\n"
     ]
    },
    {
     "data": {
      "image/png": "[encoded data removed]",
      "text/plain": [
       "<Figure size 1152x432 with 2 Axes>"
      ]
     },
     "metadata": {
      "needs_background": "light"
     },
     "output_type": "display_data"
    }
   ],
   "source": [
    "box_scatter(df,'CreditScore','Exited');\n",
    "sns.scatterplot(data=df, x=df.CreditScore,y=df.Exited,ax=ax2,color=\"green\")\n",
    "plt.tight_layout(pad=1.20)\n",
    "print(f\"# of Bivariate Outliers: {len(df.loc[df['CreditScore'] < 400])}\")"
   ]
  },
  {
   "cell_type": "code",
   "execution_count": 34,
   "metadata": {},
   "outputs": [
    {
     "name": "stdout",
     "output_type": "stream",
     "text": [
      "# of Bivariate Outliers: 3\n"
     ]
    },
    {
     "data": {
      "image/png": "[encoded data removed]",
      "text/plain": [
       "<Figure size 1152x432 with 2 Axes>"
      ]
     },
     "metadata": {
      "needs_background": "light"
     },
     "output_type": "display_data"
    }
   ],
   "source": [
    "box_scatter(df,'Age','Exited');\n",
    "sns.lineplot(data=df, x=df.Age,y=df.Exited,ax=ax2,color=\"red\")\n",
    "plt.tight_layout()\n",
    "print(f\"# of Bivariate Outliers: {len(df.loc[df['Age'] > 87])}\")"
   ]
  },
  {
   "cell_type": "code",
   "execution_count": 35,
   "metadata": {},
   "outputs": [
    {
     "name": "stdout",
     "output_type": "stream",
     "text": [
      "# of Bivariate Outliers: 4\n"
     ]
    },
    {
     "data": {
      "image/png": "[encoded data removed]",
      "text/plain": [
       "<Figure size 1152x432 with 2 Axes>"
      ]
     },
     "metadata": {
      "needs_background": "light"
     },
     "output_type": "display_data"
    }
   ],
   "source": [
    "box_scatter(df,'Balance','Exited');\n",
    "plt.tight_layout()\n",
    "print(f\"# of Bivariate Outliers: {len(df.loc[df['Balance'] > 220000])}\")"
   ]
  },
  {
   "cell_type": "code",
   "execution_count": 36,
   "metadata": {},
   "outputs": [
    {
     "data": {
      "image/png": "[encoded data removed]",
      "text/plain": [
       "<Figure size 1152x432 with 2 Axes>"
      ]
     },
     "metadata": {
      "needs_background": "light"
     },
     "output_type": "display_data"
    }
   ],
   "source": [
    "box_scatter(df,'EstimatedSalary','Exited');\n",
    "plt.tight_layout()"
   ]
  },
  {
   "cell_type": "markdown",
   "metadata": {},
   "source": [
    "## Removing outliers"
   ]
  },
  {
   "cell_type": "code",
   "execution_count": 37,
   "metadata": {},
   "outputs": [],
   "source": [
    "for i in df:\n",
    "    if df[i].dtype=='int64' or df[i].dtypes=='float64':\n",
    "        q1=df[i].quantile(0.25)\n",
    "        q3=df[i].quantile(0.75)\n",
    "        iqr=q3-q1\n",
    "        upper=q3+1.5*iqr\n",
    "        lower=q1-1.5*iqr\n",
    "        df[i]=np.where(df[i] >upper, upper, df[i])\n",
    "        df[i]=np.where(df[i] <lower, lower, df[i])\n",
    "        "
   ]
  },
  {
   "cell_type": "markdown",
   "metadata": {},
   "source": [
    "## After removing outliers, boxplot will be like"
   ]
  },
  {
   "cell_type": "code",
   "execution_count": 38,
   "metadata": {},
   "outputs": [
    {
     "name": "stdout",
     "output_type": "stream",
     "text": [
      "# of Bivariate Outliers: 19\n"
     ]
    },
    {
     "data": {
      "image/png": "[encoded data removed]",
      "text/plain": [
       "<Figure size 1152x432 with 2 Axes>"
      ]
     },
     "metadata": {
      "needs_background": "light"
     },
     "output_type": "display_data"
    }
   ],
   "source": [
    "box_scatter(df,'CreditScore','Exited');\n",
    "plt.tight_layout()\n",
    "print(f\"# of Bivariate Outliers: {len(df.loc[df['CreditScore'] < 400])}\")"
   ]
  },
  {
   "cell_type": "code",
   "execution_count": 39,
   "metadata": {},
   "outputs": [
    {
     "name": "stdout",
     "output_type": "stream",
     "text": [
      "# of Bivariate Outliers: 0\n"
     ]
    },
    {
     "data": {
      "image/png": "[encoded data removed]",
      "text/plain": [
       "<Figure size 1152x432 with 2 Axes>"
      ]
     },
     "metadata": {
      "needs_background": "light"
     },
     "output_type": "display_data"
    }
   ],
   "source": [
    "box_scatter(df,'Age','Exited');\n",
    "plt.tight_layout()\n",
    "print(f\"# of Bivariate Outliers: {len(df.loc[df['Age'] > 87])}\")"
   ]
  },
  {
   "cell_type": "code",
   "execution_count": 40,
   "metadata": {},
   "outputs": [
    {
     "name": "stdout",
     "output_type": "stream",
     "text": [
      "# of Bivariate Outliers: 4\n"
     ]
    },
    {
     "data": {
      "image/png": "[encoded data removed]",
      "text/plain": [
       "<Figure size 1152x432 with 2 Axes>"
      ]
     },
     "metadata": {
      "needs_background": "light"
     },
     "output_type": "display_data"
    }
   ],
   "source": [
    "box_scatter(df,'Balance','Exited');\n",
    "plt.tight_layout()\n",
    "print(f\"# of Bivariate Outliers: {len(df.loc[df['Balance'] > 220000])}\")"
   ]
  },
  {
   "cell_type": "markdown",
   "metadata": {},
   "source": [
    "# 7. Check for Categorical columns and perform encoding."
   ]
  },
  {
   "cell_type": "code",
   "execution_count": 41,
   "metadata": {},
   "outputs": [],
   "source": [
    "from sklearn.preprocessing import LabelEncoder\n",
    "encoder=LabelEncoder()\n",
    "for i in df:\n",
    "    if df[i].dtype=='object' :\n",
    "        df[i]=encoder.fit_transform(df[i])"
   ]
  },
  {
   "cell_type": "markdown",
   "metadata": {},
   "source": [
    "# 8. Split the data into dependent and independent variables."
   ]
  },
  {
   "cell_type": "code",
   "execution_count": 42,
   "metadata": {},
   "outputs": [
    {
     "data": {
      "text/html": [
       "<div>\n",
       "<style scoped>\n",
       "    .dataframe tbody tr th:only-of-type {\n",
       "        vertical-align: middle;\n",
       "    }\n",
       "\n",
       "    .dataframe tbody tr th {\n",
       "        vertical-align: top;\n",
       "    }\n",
       "\n",
       "    .dataframe thead th {\n",
       "        text-align: right;\n",
       "    }\n",
       "</style>\n",
       "<table border=\"1\" class=\"dataframe\">\n",
       "  <thead>\n",
       "    <tr style=\"text-align: right;\">\n",
       "      <th></th>\n",
       "      <th>RowNumber</th>\n",
       "      <th>CustomerId</th>\n",
       "      <th>Surname</th>\n",
       "      <th>CreditScore</th>\n",
       "      <th>Geography</th>\n",
       "      <th>Gender</th>\n",
       "      <th>Age</th>\n",
       "      <th>Tenure</th>\n",
       "      <th>Balance</th>\n",
       "      <th>NumOfProducts</th>\n",
       "      <th>HasCrCard</th>\n",
       "      <th>IsActiveMember</th>\n",
       "      <th>EstimatedSalary</th>\n",
       "    </tr>\n",
       "  </thead>\n",
       "  <tbody>\n",
       "    <tr>\n",
       "      <th>0</th>\n",
       "      <td>1.0</td>\n",
       "      <td>15634602.0</td>\n",
       "      <td>1115</td>\n",
       "      <td>619.0</td>\n",
       "      <td>0</td>\n",
       "      <td>0</td>\n",
       "      <td>42.0</td>\n",
       "      <td>2.0</td>\n",
       "      <td>0.00</td>\n",
       "      <td>1.0</td>\n",
       "      <td>1.0</td>\n",
       "      <td>1.0</td>\n",
       "      <td>101348.88</td>\n",
       "    </tr>\n",
       "    <tr>\n",
       "      <th>1</th>\n",
       "      <td>2.0</td>\n",
       "      <td>15647311.0</td>\n",
       "      <td>1177</td>\n",
       "      <td>608.0</td>\n",
       "      <td>2</td>\n",
       "      <td>0</td>\n",
       "      <td>41.0</td>\n",
       "      <td>1.0</td>\n",
       "      <td>83807.86</td>\n",
       "      <td>1.0</td>\n",
       "      <td>0.0</td>\n",
       "      <td>1.0</td>\n",
       "      <td>112542.58</td>\n",
       "    </tr>\n",
       "    <tr>\n",
       "      <th>2</th>\n",
       "      <td>3.0</td>\n",
       "      <td>15619304.0</td>\n",
       "      <td>2040</td>\n",
       "      <td>502.0</td>\n",
       "      <td>0</td>\n",
       "      <td>0</td>\n",
       "      <td>42.0</td>\n",
       "      <td>8.0</td>\n",
       "      <td>159660.80</td>\n",
       "      <td>3.0</td>\n",
       "      <td>1.0</td>\n",
       "      <td>0.0</td>\n",
       "      <td>113931.57</td>\n",
       "    </tr>\n",
       "    <tr>\n",
       "      <th>3</th>\n",
       "      <td>4.0</td>\n",
       "      <td>15701354.0</td>\n",
       "      <td>289</td>\n",
       "      <td>699.0</td>\n",
       "      <td>0</td>\n",
       "      <td>0</td>\n",
       "      <td>39.0</td>\n",
       "      <td>1.0</td>\n",
       "      <td>0.00</td>\n",
       "      <td>2.0</td>\n",
       "      <td>0.0</td>\n",
       "      <td>0.0</td>\n",
       "      <td>93826.63</td>\n",
       "    </tr>\n",
       "    <tr>\n",
       "      <th>4</th>\n",
       "      <td>5.0</td>\n",
       "      <td>15737888.0</td>\n",
       "      <td>1822</td>\n",
       "      <td>850.0</td>\n",
       "      <td>2</td>\n",
       "      <td>0</td>\n",
       "      <td>43.0</td>\n",
       "      <td>2.0</td>\n",
       "      <td>125510.82</td>\n",
       "      <td>1.0</td>\n",
       "      <td>1.0</td>\n",
       "      <td>1.0</td>\n",
       "      <td>79084.10</td>\n",
       "    </tr>\n",
       "  </tbody>\n",
       "</table>\n",
       "</div>"
      ],
      "text/plain": [
       "   RowNumber  CustomerId  Surname  CreditScore  Geography  Gender   Age  \\\n",
       "0        1.0  15634602.0     1115        619.0          0       0  42.0   \n",
       "1        2.0  15647311.0     1177        608.0          2       0  41.0   \n",
       "2        3.0  15619304.0     2040        502.0          0       0  42.0   \n",
       "3        4.0  15701354.0      289        699.0          0       0  39.0   \n",
       "4        5.0  15737888.0     1822        850.0          2       0  43.0   \n",
       "\n",
       "   Tenure    Balance  NumOfProducts  HasCrCard  IsActiveMember  \\\n",
       "0     2.0       0.00            1.0        1.0             1.0   \n",
       "1     1.0   83807.86            1.0        0.0             1.0   \n",
       "2     8.0  159660.80            3.0        1.0             0.0   \n",
       "3     1.0       0.00            2.0        0.0             0.0   \n",
       "4     2.0  125510.82            1.0        1.0             1.0   \n",
       "\n",
       "   EstimatedSalary  \n",
       "0        101348.88  \n",
       "1        112542.58  \n",
       "2        113931.57  \n",
       "3         93826.63  \n",
       "4         79084.10  "
      ]
     },
     "execution_count": 42,
     "metadata": {},
     "output_type": "execute_result"
    }
   ],
   "source": [
    "x=df.iloc[:,:-1]\n",
    "x.head()"
   ]
  },
  {
   "cell_type": "code",
   "execution_count": 44,
   "metadata": {
    "scrolled": true
   },
   "outputs": [
    {
     "data": {
      "text/plain": [
       "0    0.0\n",
       "1    0.0\n",
       "2    0.0\n",
       "3    0.0\n",
       "4    0.0\n",
       "Name: Exited, dtype: float64"
      ]
     },
     "execution_count": 44,
     "metadata": {},
     "output_type": "execute_result"
    }
   ],
   "source": [
    "y=df[\"Exited\"]\n",
    "y.head()"
   ]
  },
  {
   "cell_type": "markdown",
   "metadata": {},
   "source": [
    "# 9. Scale the independent variables"
   ]
  },
  {
   "cell_type": "code",
   "execution_count": 45,
   "metadata": {},
   "outputs": [],
   "source": [
    "from sklearn.preprocessing import StandardScaler\n",
    "scaler=StandardScaler()\n",
    "x=scaler.fit_transform(x)"
   ]
  },
  {
   "cell_type": "markdown",
   "metadata": {},
   "source": [
    "# 10. Split the data into training and testing"
   ]
  },
  {
   "cell_type": "code",
   "execution_count": 51,
   "metadata": {},
   "outputs": [],
   "source": [
    "from sklearn.model_selection import train_test_split\n",
    "x_train,x_test,y_train,y_test=train_test_split(x,y,test_size=0.25)"
   ]
  },
  {
   "cell_type": "code",
   "execution_count": 52,
   "metadata": {},
   "outputs": [
    {
     "data": {
      "text/plain": [
       "(7500, 13)"
      ]
     },
     "execution_count": 52,
     "metadata": {},
     "output_type": "execute_result"
    }
   ],
   "source": [
    "x_train.shape"
   ]
  },
  {
   "cell_type": "code",
   "execution_count": 53,
   "metadata": {},
   "outputs": [
    {
     "data": {
      "text/plain": [
       "(2500, 13)"
      ]
     },
     "execution_count": 53,
     "metadata": {},
     "output_type": "execute_result"
    }
   ],
   "source": [
    "x_test.shape"
   ]
  },
  {
   "cell_type": "code",
   "execution_count": 54,
   "metadata": {},
   "outputs": [
    {
     "data": {
      "text/plain": [
       "(7500,)"
      ]
     },
     "execution_count": 54,
     "metadata": {},
     "output_type": "execute_result"
    }
   ],
   "source": [
    "y_train.shape"
   ]
  },
  {
   "cell_type": "code",
   "execution_count": 55,
   "metadata": {},
   "outputs": [
    {
     "data": {
      "text/plain": [
       "(2500,)"
      ]
     },
     "execution_count": 55,
     "metadata": {},
     "output_type": "execute_result"
    }
   ],
   "source": [
    "y_test.shape"
   ]
  },
  {
   "cell_type": "code",
   "execution_count": null,
   "metadata": {},
   "outputs": [],
   "source": []
  }
 ],
 "metadata": {
  "kernelspec": {
   "display_name": "Python 3 (ipykernel)",
   "language": "python",
   "name": "python3"
  },
  "language_info": {
   "codemirror_mode": {
    "name": "ipython",
    "version": 3
   },
   "file_extension": ".py",
   "mimetype": "text/x-python",
   "name": "python",
   "nbconvert_exporter": "python",
   "pygments_lexer": "ipython3",
   "version": "3.9.7"
  }
 },
 "nbformat": 4,
 "nbformat_minor": 4
}
